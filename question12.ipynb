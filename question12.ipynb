{
 "cells": [
  {
   "cell_type": "markdown",
   "id": "b822c652-927c-4081-b712-b56b793f645c",
   "metadata": {},
   "source": [
    "# Notebook for assignment 7\n",
    "## Question 12"
   ]
  },
  {
   "cell_type": "markdown",
   "id": "1dd827d3-0576-463c-8290-9c5f951ebdff",
   "metadata": {},
   "source": [
    "### We are currently working in the following directory:\n",
    "\n",
    "Use the `pwd` command to display the current working directly"
   ]
  },
  {
   "cell_type": "code",
   "execution_count": 1,
   "id": "2aa54454-8cee-479c-8c44-f11610ec9d28",
   "metadata": {},
   "outputs": [
    {
     "name": "stdout",
     "output_type": "stream",
     "text": [
      "/c/Users/xuxx1_d0qp9rf/Desktop/practice\n"
     ]
    }
   ],
   "source": [
    "!pwd"
   ]
  },
  {
   "cell_type": "markdown",
   "id": "5b08796a-a53e-4ec7-9f8b-d1cdd1083e0d",
   "metadata": {},
   "source": [
    "### Time to run a Python cell\n",
    "\n",
    "To time how long it takes to run a Python cell, we could use the `timeit` command inside a cell as is shown below: \n",
    "Followed by the proper use of the `timeit` command to time the following loop:\n",
    "\n",
    "```python\n",
    "for i in range(1_000_000):\n",
    "    i**2\n",
    "```"
   ]
  },
  {
   "cell_type": "code",
   "execution_count": 2,
   "id": "3138dafe-55e1-4333-96b5-aa35b337ba4e",
   "metadata": {},
   "outputs": [
    {
     "name": "stdout",
     "output_type": "stream",
     "text": [
      "52.4 ms ± 268 μs per loop (mean ± std. dev. of 7 runs, 10 loops each)\n"
     ]
    }
   ],
   "source": [
    "%%timeit\n",
    "for i in range(1_000_000):\n",
    "    i**2"
   ]
  },
  {
   "cell_type": "markdown",
   "id": "f83568c8-52c0-41ee-abb5-d0efd29eba09",
   "metadata": {},
   "source": [
    "### Export the Jupyter notebook to HTML without including any of the input code cells\n",
    "\n",
    "```shell\n",
    "jupyter nbconvert --to html --no-input --output=./outputs/q12.html question12.ipynb\n",
    "```"
   ]
  },
  {
   "cell_type": "code",
   "execution_count": 3,
   "id": "2e774901-c36c-4c98-aaa9-e0a4031938b7",
   "metadata": {},
   "outputs": [
    {
     "name": "stderr",
     "output_type": "stream",
     "text": [
      "[NbConvertApp] Converting notebook question12.ipynb to html\n",
      "[NbConvertApp] Writing 275326 bytes to outputs\\q12.html\n"
     ]
    }
   ],
   "source": [
    "!jupyter nbconvert --to html --no-input --output=./outputs/q12.html question12.ipynb"
   ]
  },
  {
   "cell_type": "markdown",
   "id": "e9fd2b60-73ba-48ae-9a82-1a781decd6a0",
   "metadata": {},
   "source": [
    "## Screenshot of the exported HTML \n",
    "\n",
    "![Screenshot of HTML](./img/q12.png)"
   ]
  },
  {
   "cell_type": "markdown",
   "id": "4f7afde0-64db-42cd-bffd-f5bbbbffea93",
   "metadata": {},
   "source": [
    "## Link of the exported HTML \n",
    "\n",
    "[Link of HTML](./src/q12.html)"
   ]
  },
  {
   "cell_type": "code",
   "execution_count": null,
   "id": "c63bc2d8-7597-41ed-a05a-4c8d2fd138ab",
   "metadata": {},
   "outputs": [],
   "source": []
  },
  {
   "cell_type": "code",
   "execution_count": null,
   "id": "236187af-d005-460c-a370-063305086f42",
   "metadata": {},
   "outputs": [],
   "source": []
  }
 ],
 "metadata": {
  "kernelspec": {
   "display_name": "Python [conda env:dstoolbox]",
   "language": "python",
   "name": "conda-env-dstoolbox-py"
  },
  "language_info": {
   "codemirror_mode": {
    "name": "ipython",
    "version": 3
   },
   "file_extension": ".py",
   "mimetype": "text/x-python",
   "name": "python",
   "nbconvert_exporter": "python",
   "pygments_lexer": "ipython3",
   "version": "3.13.2"
  }
 },
 "nbformat": 4,
 "nbformat_minor": 5
}
