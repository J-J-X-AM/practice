{
 "cells": [
  {
   "cell_type": "markdown",
   "id": "26785730-93ee-4b3e-a06a-e118daad0006",
   "metadata": {},
   "source": [
    "# Notebook for assignment 7\n",
    "## Question 11"
   ]
  },
  {
   "cell_type": "code",
   "execution_count": 1,
   "id": "71d6e1a3-4498-4a62-8a2a-66b5e00d10b4",
   "metadata": {},
   "outputs": [],
   "source": [
    "import numpy as np\n",
    "\n",
    "\n",
    "def compute_mean(numbers):\n",
    "    if numbers:\n",
    "        return np.mean(numbers)\n",
    "    return None"
   ]
  },
  {
   "cell_type": "code",
   "execution_count": 2,
   "id": "4458b48b-bc49-4248-9c27-db6a378060fa",
   "metadata": {},
   "outputs": [
    {
     "name": "stdout",
     "output_type": "stream",
     "text": [
      "The mean value of the given numbers [2, 4, 6, 8] is 5.0.\n"
     ]
    }
   ],
   "source": [
    "# usage\n",
    "data = [2, 4, 6, 8]\n",
    "mean = compute_mean(data)\n",
    "print(f\"The mean value of the given numbers {data} is {mean:.1f}.\")"
   ]
  },
  {
   "cell_type": "markdown",
   "id": "1456ee18-3dd4-4906-835a-dca60b7bef13",
   "metadata": {},
   "source": [
    "## Equation of the mean in $\\LaTeX$ expression \n",
    "\n",
    "\n",
    "$$\n",
    "\\bar{x} = \\frac{x_1 + x_2 + \\cdots + x_n}{n} = \\frac{1}{n} \\left({\\sum_{i=1}^{n} x_i} \\right)\n",
    "$$\n",
    "\n"
   ]
  },
  {
   "cell_type": "markdown",
   "id": "e2dcd7b2-ed83-4d68-8dfb-050b3cddd0c0",
   "metadata": {},
   "source": [
    "## Screenshot of the implementation and equation:\n",
    "\n",
    "![Screenshot of Implementation and Equation](./img/q11.png)"
   ]
  },
  {
   "cell_type": "code",
   "execution_count": null,
   "id": "4ca0db50-52b1-46a6-bac4-6aeb320f5618",
   "metadata": {},
   "outputs": [],
   "source": []
  },
  {
   "cell_type": "code",
   "execution_count": null,
   "id": "ddc21f28-c6f3-47a5-b8e4-9000b37fa821",
   "metadata": {},
   "outputs": [],
   "source": []
  }
 ],
 "metadata": {
  "kernelspec": {
   "display_name": "Python [conda env:dstoolbox]",
   "language": "python",
   "name": "conda-env-dstoolbox-py"
  },
  "language_info": {
   "codemirror_mode": {
    "name": "ipython",
    "version": 3
   },
   "file_extension": ".py",
   "mimetype": "text/x-python",
   "name": "python",
   "nbconvert_exporter": "python",
   "pygments_lexer": "ipython3",
   "version": "3.13.2"
  }
 },
 "nbformat": 4,
 "nbformat_minor": 5
}
